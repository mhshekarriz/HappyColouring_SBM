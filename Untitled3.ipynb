{
 "cells": [
  {
   "cell_type": "code",
   "execution_count": 1,
   "id": "1426b994-77d5-4560-8513-22b2e8d257fe",
   "metadata": {},
   "outputs": [],
   "source": [
    "import time"
   ]
  },
  {
   "cell_type": "code",
   "execution_count": 2,
   "id": "b7e32dd9-7b0a-4f79-a883-ca04b0fb1f61",
   "metadata": {},
   "outputs": [],
   "source": [
    "t1=time.thread_time()"
   ]
  },
  {
   "cell_type": "code",
   "execution_count": 3,
   "id": "c7adc44d-e23d-4cc5-80d1-29336cc5a586",
   "metadata": {},
   "outputs": [],
   "source": [
    "t2=time.thread_time()"
   ]
  },
  {
   "cell_type": "code",
   "execution_count": 4,
   "id": "7ca3f4bf-16ee-4075-b8b3-6accde78bf07",
   "metadata": {},
   "outputs": [
    {
     "data": {
      "text/plain": [
       "0.0012455519999999831"
      ]
     },
     "execution_count": 4,
     "metadata": {},
     "output_type": "execute_result"
    }
   ],
   "source": [
    "t2-t1"
   ]
  },
  {
   "cell_type": "code",
   "execution_count": 5,
   "id": "8ddef7ad-f9aa-43c9-bd64-7f38035a4270",
   "metadata": {},
   "outputs": [
    {
     "data": {
      "text/plain": [
       "0.308685136"
      ]
     },
     "execution_count": 5,
     "metadata": {},
     "output_type": "execute_result"
    }
   ],
   "source": [
    "t1"
   ]
  },
  {
   "cell_type": "code",
   "execution_count": 6,
   "id": "f79e9e2f-54ed-4cad-b41e-3069d9f0091d",
   "metadata": {},
   "outputs": [
    {
     "data": {
      "text/plain": [
       "0.309930688"
      ]
     },
     "execution_count": 6,
     "metadata": {},
     "output_type": "execute_result"
    }
   ],
   "source": [
    "t2"
   ]
  },
  {
   "cell_type": "code",
   "execution_count": 16,
   "id": "4e5828fe-de0b-49b4-ae6c-7e63691fe848",
   "metadata": {},
   "outputs": [],
   "source": [
    "t3=time.process_time()"
   ]
  },
  {
   "cell_type": "code",
   "execution_count": 17,
   "id": "1d63b710-eb8f-4349-8c02-a969b613a357",
   "metadata": {},
   "outputs": [],
   "source": [
    "t4=time.process_time()"
   ]
  },
  {
   "cell_type": "code",
   "execution_count": 18,
   "id": "d7322013-9be8-4bd0-8704-8a92321fe87a",
   "metadata": {},
   "outputs": [
    {
     "data": {
      "text/plain": [
       "0.0066590180000000165"
      ]
     },
     "execution_count": 18,
     "metadata": {},
     "output_type": "execute_result"
    }
   ],
   "source": [
    "t4-t3"
   ]
  },
  {
   "cell_type": "code",
   "execution_count": 13,
   "id": "361de3af-33aa-4aba-92e8-5dbc3941e68d",
   "metadata": {},
   "outputs": [],
   "source": [
    "t5=time.time()"
   ]
  },
  {
   "cell_type": "code",
   "execution_count": 14,
   "id": "a51d64a1-1ffd-4200-8890-b460ad5dcedb",
   "metadata": {},
   "outputs": [],
   "source": [
    "t6=time.time()"
   ]
  },
  {
   "cell_type": "code",
   "execution_count": 15,
   "id": "d0ba62fd-b534-4878-962d-e1f18d841ed2",
   "metadata": {},
   "outputs": [
    {
     "data": {
      "text/plain": [
       "4.329277038574219"
      ]
     },
     "execution_count": 15,
     "metadata": {},
     "output_type": "execute_result"
    }
   ],
   "source": [
    "t6-t5"
   ]
  },
  {
   "cell_type": "code",
   "execution_count": null,
   "id": "0d752933-f89e-42f3-90ec-83aa49861b04",
   "metadata": {},
   "outputs": [],
   "source": []
  }
 ],
 "metadata": {
  "kernelspec": {
   "display_name": "Python 3 (ipykernel)",
   "language": "python",
   "name": "python3"
  },
  "language_info": {
   "codemirror_mode": {
    "name": "ipython",
    "version": 3
   },
   "file_extension": ".py",
   "mimetype": "text/x-python",
   "name": "python",
   "nbconvert_exporter": "python",
   "pygments_lexer": "ipython3",
   "version": "3.11.5"
  }
 },
 "nbformat": 4,
 "nbformat_minor": 5
}
