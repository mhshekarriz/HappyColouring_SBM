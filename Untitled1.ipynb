{
 "cells": [
  {
   "cell_type": "code",
   "execution_count": 1,
   "id": "acf9c648-241f-4ab5-ae98-d795aee258e1",
   "metadata": {},
   "outputs": [],
   "source": [
    "import networkx as nx\n",
    "from genSBM import *\n",
    "from Happy_v import *"
   ]
  },
  {
   "cell_type": "code",
   "execution_count": 2,
   "id": "6207abfb-ddce-4996-843a-3006c3e34ea4",
   "metadata": {},
   "outputs": [],
   "source": [
    "r=0.5"
   ]
  },
  {
   "cell_type": "code",
   "execution_count": 3,
   "id": "8b1507cd-0fca-4f68-a50a-53dd9735d1b5",
   "metadata": {},
   "outputs": [],
   "source": [
    "[G,V,U]=genSBM(10,2,0.93,0.001,10)"
   ]
  },
  {
   "cell_type": "code",
   "execution_count": 4,
   "id": "4f5e5eb7-e285-49ac-9e25-b4ec6c73ad28",
   "metadata": {},
   "outputs": [],
   "source": [
    "#[F,T]=growth_HC_r(G,V,U,r)"
   ]
  },
  {
   "cell_type": "code",
   "execution_count": 5,
   "id": "eec1816f-eb97-4479-99e1-3263681b82de",
   "metadata": {},
   "outputs": [
    {
     "data": {
      "text/plain": [
       "{0, 1, 3, 4, 5, 6, 8, 9}"
      ]
     },
     "execution_count": 5,
     "metadata": {},
     "output_type": "execute_result"
    }
   ],
   "source": [
    "U"
   ]
  },
  {
   "cell_type": "code",
   "execution_count": 6,
   "id": "2c76e251-787c-4037-b6c2-56f8629750d5",
   "metadata": {},
   "outputs": [
    {
     "data": {
      "image/png": "[encoded data removed]",
      "text/plain": [
       "<Figure size 640x480 with 1 Axes>"
      ]
     },
     "metadata": {},
     "output_type": "display_data"
    }
   ],
   "source": [
    "nx.draw(G, with_labels=True, font_weight='bold')"
   ]
  },
  {
   "cell_type": "code",
   "execution_count": 7,
   "id": "e9985837-ba88-4ff9-9a2b-ea1146887cea",
   "metadata": {},
   "outputs": [
    {
     "data": {
      "text/plain": [
       "[[2], [7]]"
      ]
     },
     "execution_count": 7,
     "metadata": {},
     "output_type": "execute_result"
    }
   ],
   "source": [
    "V"
   ]
  },
  {
   "cell_type": "code",
   "execution_count": 8,
   "id": "13b8e0aa-af7e-493b-b863-e59f096786d7",
   "metadata": {},
   "outputs": [],
   "source": [
    "Graph=copy.deepcopy(G)\n",
    "Vc=copy.deepcopy(V)\n",
    "Uc=copy.deepcopy(U)\n",
    "k=len(Vc)\n",
    "if (Uc!=set()):\n",
    "    A=P_v(Graph,r,k)\n",
    "    while (A!=[]):\n",
    "        v=random.choice(A)\n",
    "        Up=list(set(Graph.adj[v]).intersection(Uc))\n",
    "        if Up!=[]:\n",
    "            i=0\n",
    "            for u in list(Graph.adj[v]):\n",
    "                if (Graph.nodes[u][\"c\"]==Graph.nodes[v][\"c\"]):\n",
    "                    i+=1\n",
    "            t=math.ceil(r*Graph.degree[v])-i\n",
    "            for j in range(t):\n",
    "                x=random.choice(Up)\n",
    "                Graph.nodes[x][\"c\"]=Graph.nodes[v][\"c\"]\n",
    "                Up.remove(x)\n",
    "                Uc.remove(x)\n",
    "                Vc[Graph.nodes[v][\"c\"]].append(x)\n",
    "            A=P_v(Graph,r,k)"
   ]
  },
  {
   "cell_type": "code",
   "execution_count": 9,
   "id": "5840c3ee-c5c7-4336-a4de-98e75ffaa4b5",
   "metadata": {},
   "outputs": [
    {
     "data": {
      "text/plain": [
       "[]"
      ]
     },
     "execution_count": 9,
     "metadata": {},
     "output_type": "execute_result"
    }
   ],
   "source": [
    "A"
   ]
  },
  {
   "cell_type": "code",
   "execution_count": 10,
   "id": "995ce603-805b-4f29-a4d7-3fd7f53a2ace",
   "metadata": {},
   "outputs": [
    {
     "data": {
      "text/plain": [
       "[[2, 4, 0], [7, 6, 5, 8]]"
      ]
     },
     "execution_count": 10,
     "metadata": {},
     "output_type": "execute_result"
    }
   ],
   "source": [
    "Vc"
   ]
  },
  {
   "cell_type": "code",
   "execution_count": 11,
   "id": "8b6dc60f-ba90-4ffd-84b5-e73a88bef433",
   "metadata": {},
   "outputs": [],
   "source": [
    "B=L_h(Graph,r,k)"
   ]
  },
  {
   "cell_type": "code",
   "execution_count": 12,
   "id": "143fb604-bb98-4aac-a227-c33898c6a41b",
   "metadata": {},
   "outputs": [
    {
     "data": {
      "text/plain": [
       "[1, 3, 9]"
      ]
     },
     "execution_count": 12,
     "metadata": {},
     "output_type": "execute_result"
    }
   ],
   "source": [
    "B"
   ]
  },
  {
   "cell_type": "code",
   "execution_count": 13,
   "id": "c90900ee-e7c2-4a90-ba05-8aed29193f00",
   "metadata": {},
   "outputs": [
    {
     "data": {
      "text/plain": [
       "{1, 3, 9}"
      ]
     },
     "execution_count": 13,
     "metadata": {},
     "output_type": "execute_result"
    }
   ],
   "source": [
    "Uc"
   ]
  },
  {
   "cell_type": "code",
   "execution_count": 28,
   "id": "d5fa15d2-852f-43d6-8320-418d5b82ffd0",
   "metadata": {},
   "outputs": [],
   "source": [
    "v=random.choice(B)\n",
    "Up=list(set(Graph.adj[v]).intersection(Uc))\n",
    "colour_palette=[]\n",
    "for s in range(k):\n",
    "    colour_palette.append([])\n",
    "for w in list(Graph.adj[v]):\n",
    "    if (Graph.nodes[w][\"c\"]!=\"u\"):\n",
    "        colour_palette[Graph.nodes[w][\"c\"]].append(w)\n",
    "l=0\n",
    "cq='u'\n",
    "for q in range(len(colour_palette)):\n",
    "    if (len(colour_palette[q])>l):\n",
    "        l=len(colour_palette[q])\n",
    "        cq=q\n",
    "Uc.remove(v)\n",
    "Vc[cq].append(v)\n",
    "Graph.nodes[v][\"c\"]=cq\n",
    "t=math.ceil(r*Graph.degree[v])-l\n",
    "if t>0:\n",
    "    for j in range(t):\n",
    "        if Up!=[]:\n",
    "            x=random.choice(Up)\n",
    "            Graph.nodes[x][\"c\"]=cq\n",
    "            Up.remove(x)\n",
    "            Uc.remove(x)\n",
    "            Vc[cq].append(x)\n",
    "A=P_v(Graph,r,k)\n",
    "B=L_h(Graph,r,k)"
   ]
  },
  {
   "cell_type": "code",
   "execution_count": 29,
   "id": "bbc78fa8-5e8f-4f52-9599-b8dfd2e7f71d",
   "metadata": {},
   "outputs": [
    {
     "data": {
      "text/plain": [
       "(1, [], [], set())"
      ]
     },
     "execution_count": 29,
     "metadata": {},
     "output_type": "execute_result"
    }
   ],
   "source": [
    "v,A,B,Uc"
   ]
  },
  {
   "cell_type": "code",
   "execution_count": 30,
   "id": "0cca043f-504b-45b3-906c-09c0c23d846d",
   "metadata": {},
   "outputs": [
    {
     "data": {
      "text/plain": [
       "[]"
      ]
     },
     "execution_count": 30,
     "metadata": {},
     "output_type": "execute_result"
    }
   ],
   "source": [
    "Up"
   ]
  },
  {
   "cell_type": "code",
   "execution_count": 24,
   "id": "ad218bad-ae2e-417b-b8f6-a9b87e11e387",
   "metadata": {},
   "outputs": [
    {
     "data": {
      "text/plain": [
       "(-2, 4)"
      ]
     },
     "execution_count": 24,
     "metadata": {},
     "output_type": "execute_result"
    }
   ],
   "source": [
    "t,l"
   ]
  },
  {
   "cell_type": "code",
   "execution_count": 25,
   "id": "6d58b40f-5da1-46c5-b564-92aa5e491d0b",
   "metadata": {},
   "outputs": [
    {
     "data": {
      "text/plain": [
       "[[], [5, 6, 7, 8]]"
      ]
     },
     "execution_count": 25,
     "metadata": {},
     "output_type": "execute_result"
    }
   ],
   "source": [
    "colour_palette"
   ]
  },
  {
   "cell_type": "code",
   "execution_count": 31,
   "id": "165709f9-9312-4a44-ae6c-e66369f0a461",
   "metadata": {},
   "outputs": [
    {
     "data": {
      "text/plain": [
       "[[2, 4, 0, 3, 1], [7, 6, 5, 8, 9]]"
      ]
     },
     "execution_count": 31,
     "metadata": {},
     "output_type": "execute_result"
    }
   ],
   "source": [
    "Vc"
   ]
  },
  {
   "cell_type": "code",
   "execution_count": 32,
   "id": "93366e39-83aa-4179-b01e-1420eed21615",
   "metadata": {},
   "outputs": [
    {
     "data": {
      "text/plain": [
       "0"
      ]
     },
     "execution_count": 32,
     "metadata": {},
     "output_type": "execute_result"
    }
   ],
   "source": [
    "cq"
   ]
  },
  {
   "cell_type": "code",
   "execution_count": null,
   "id": "8148ba3d-6469-4165-b042-7384636b62c8",
   "metadata": {},
   "outputs": [],
   "source": []
  }
 ],
 "metadata": {
  "kernelspec": {
   "display_name": "Python 3 (ipykernel)",
   "language": "python",
   "name": "python3"
  },
  "language_info": {
   "codemirror_mode": {
    "name": "ipython",
    "version": 3
   },
   "file_extension": ".py",
   "mimetype": "text/x-python",
   "name": "python",
   "nbconvert_exporter": "python",
   "pygments_lexer": "ipython3",
   "version": "3.11.5"
  }
 },
 "nbformat": 4,
 "nbformat_minor": 5
}
