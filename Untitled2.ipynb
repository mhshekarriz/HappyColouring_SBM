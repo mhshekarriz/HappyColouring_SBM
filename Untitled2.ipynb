{
 "cells": [
  {
   "cell_type": "code",
   "execution_count": 1,
   "id": "5e72b698-db1f-4df1-a205-1a5708955318",
   "metadata": {},
   "outputs": [],
   "source": [
    "import networkx as nx\n",
    "from genSBM import *\n",
    "from Happy_v import *"
   ]
  },
  {
   "cell_type": "code",
   "execution_count": 2,
   "id": "5c0bc97e-fd7c-481d-ae80-0356b37ff305",
   "metadata": {},
   "outputs": [],
   "source": [
    "n=1000\n",
    "p=0.63\n",
    "q=0.001"
   ]
  },
  {
   "cell_type": "code",
   "execution_count": 3,
   "id": "619e7097-afe0-44dc-955e-eccd2640181d",
   "metadata": {},
   "outputs": [],
   "source": [
    "r=0.5\n",
    "k=2"
   ]
  },
  {
   "cell_type": "code",
   "execution_count": 4,
   "id": "9ff2140e-947e-4701-9816-bffad1fad046",
   "metadata": {},
   "outputs": [],
   "source": [
    "[G,V,U]=genSBM(n,k,p,q,10)"
   ]
  },
  {
   "cell_type": "code",
   "execution_count": 5,
   "id": "324b0aef-1323-42f5-a746-b1bb6176edf8",
   "metadata": {},
   "outputs": [],
   "source": [
    "[F,T]=growth_HC_r(G,V,U,r)"
   ]
  },
  {
   "cell_type": "code",
   "execution_count": 6,
   "id": "229575dd-1bce-41c6-8c39-df7242cd5f71",
   "metadata": {},
   "outputs": [
    {
     "data": {
      "text/plain": [
       "0.999"
      ]
     },
     "execution_count": 6,
     "metadata": {},
     "output_type": "execute_result"
    }
   ],
   "source": [
    "len(Happy_v(F,r))/n"
   ]
  },
  {
   "cell_type": "code",
   "execution_count": 7,
   "id": "6e8f5b31-e7ea-4446-83b7-1952e9e4a887",
   "metadata": {},
   "outputs": [
    {
     "data": {
      "text/plain": [
       "999"
      ]
     },
     "execution_count": 7,
     "metadata": {},
     "output_type": "execute_result"
    }
   ],
   "source": [
    "len(Happy_v(F,r))"
   ]
  },
  {
   "cell_type": "code",
   "execution_count": 8,
   "id": "18c3ff2e-8ade-4ce7-b018-3145a39aed44",
   "metadata": {},
   "outputs": [],
   "source": [
    "Av=[]\n",
    "for i in range(len(T)):\n",
    "    Av.append(len(T[i]))"
   ]
  },
  {
   "cell_type": "code",
   "execution_count": 13,
   "id": "4ca0758b-2571-447d-b855-3a97a9579618",
   "metadata": {},
   "outputs": [
    {
     "data": {
      "text/plain": [
       "'[999, 1]'"
      ]
     },
     "execution_count": 13,
     "metadata": {},
     "output_type": "execute_result"
    }
   ],
   "source": [
    "str(Av)"
   ]
  },
  {
   "cell_type": "code",
   "execution_count": 10,
   "id": "389fe642-d414-4a8b-9f3a-efd9e7b87163",
   "metadata": {},
   "outputs": [],
   "source": [
    "[H,S]=greedy3_HC_r(G,V,U,r)"
   ]
  },
  {
   "cell_type": "code",
   "execution_count": 11,
   "id": "f97314f0-994e-4422-a0f5-ae3229f9a98d",
   "metadata": {},
   "outputs": [],
   "source": [
    "Avg=[]\n",
    "for i in range(len(S)):\n",
    "    Avg.append(len(S[i]))"
   ]
  },
  {
   "cell_type": "code",
   "execution_count": 12,
   "id": "a27ebe62-6c86-4068-a973-fe43af78b3bb",
   "metadata": {},
   "outputs": [
    {
     "data": {
      "text/plain": [
       "[500, 500]"
      ]
     },
     "execution_count": 12,
     "metadata": {},
     "output_type": "execute_result"
    }
   ],
   "source": [
    "Avg"
   ]
  },
  {
   "cell_type": "code",
   "execution_count": null,
   "id": "e752733f-7547-488e-959a-4419b495203f",
   "metadata": {},
   "outputs": [],
   "source": []
  }
 ],
 "metadata": {
  "kernelspec": {
   "display_name": "Python 3 (ipykernel)",
   "language": "python",
   "name": "python3"
  },
  "language_info": {
   "codemirror_mode": {
    "name": "ipython",
    "version": 3
   },
   "file_extension": ".py",
   "mimetype": "text/x-python",
   "name": "python",
   "nbconvert_exporter": "python",
   "pygments_lexer": "ipython3",
   "version": "3.11.5"
  }
 },
 "nbformat": 4,
 "nbformat_minor": 5
}
