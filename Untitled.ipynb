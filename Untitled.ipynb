{
 "cells": [
  {
   "cell_type": "code",
   "execution_count": 1,
   "id": "e2043d7e-e38a-49e0-8043-367f96d72e48",
   "metadata": {},
   "outputs": [],
   "source": [
    "import networkx as nx\n",
    "from genSBM import *\n",
    "from Happy_v import *"
   ]
  },
  {
   "cell_type": "code",
   "execution_count": 2,
   "id": "a449b99e-0b0b-4571-83c6-1aaa3232046a",
   "metadata": {},
   "outputs": [],
   "source": [
    "n=1500"
   ]
  },
  {
   "cell_type": "code",
   "execution_count": 3,
   "id": "2aba3e1d-28b7-4441-aeb9-dc4890ca3a4e",
   "metadata": {},
   "outputs": [],
   "source": [
    "r=0.5"
   ]
  },
  {
   "cell_type": "code",
   "execution_count": 4,
   "id": "2a40d33a-4f08-4528-88bf-db7092d17e0b",
   "metadata": {},
   "outputs": [],
   "source": [
    "p=0.63"
   ]
  },
  {
   "cell_type": "code",
   "execution_count": 5,
   "id": "420d6b68-1654-4655-b522-d0888a5f7ab9",
   "metadata": {},
   "outputs": [],
   "source": [
    "q=0.01"
   ]
  },
  {
   "cell_type": "code",
   "execution_count": 6,
   "id": "a7191578-497f-4efe-b2b3-021cba0dcc3c",
   "metadata": {},
   "outputs": [],
   "source": [
    "seed=10"
   ]
  },
  {
   "cell_type": "code",
   "execution_count": 7,
   "id": "12f98969-cf2d-4d11-956c-ec8bcd31f2a0",
   "metadata": {},
   "outputs": [],
   "source": [
    "k=5"
   ]
  },
  {
   "cell_type": "code",
   "execution_count": 8,
   "id": "01fab741-b455-4b62-bad6-d9a3134698fd",
   "metadata": {},
   "outputs": [],
   "source": [
    "[G,V,U,Sz]=genSBM(n,k,p,q,seed)"
   ]
  },
  {
   "cell_type": "code",
   "execution_count": 9,
   "id": "f66b527b-3dae-402d-b80d-65fba6e0b08f",
   "metadata": {},
   "outputs": [
    {
     "name": "stdout",
     "output_type": "stream",
     "text": [
      "CPU runtime for greedy3 algorithm:\t 0.216445993\n"
     ]
    }
   ],
   "source": [
    "#[F,T]=growth_HC_r(G,V,U,r)\n",
    "[F,T,ct]=greedy3_HC_r(G,V,U,r)"
   ]
  },
  {
   "cell_type": "code",
   "execution_count": 10,
   "id": "7ba421c4-150e-4107-a898-5ca6fb8de2a1",
   "metadata": {},
   "outputs": [],
   "source": [
    "Av=[]\n",
    "for i in range(len(T)):\n",
    "    Av.append(len(T[i]))"
   ]
  },
  {
   "cell_type": "code",
   "execution_count": 11,
   "id": "f9a50f8b-6715-47fb-a3a3-04d41233abf6",
   "metadata": {},
   "outputs": [],
   "source": [
    "hcd1=How_accurate_is_comm_det(k,T,Sz)"
   ]
  },
  {
   "cell_type": "code",
   "execution_count": 12,
   "id": "ff67816a-d572-4964-9d0c-f1fda4246ff1",
   "metadata": {},
   "outputs": [
    {
     "data": {
      "text/plain": [
       "1.0"
      ]
     },
     "execution_count": 12,
     "metadata": {},
     "output_type": "execute_result"
    }
   ],
   "source": [
    "hcd1"
   ]
  },
  {
   "cell_type": "code",
   "execution_count": 13,
   "id": "c2c5d76e-d25a-441f-bd32-95820eb9da4d",
   "metadata": {},
   "outputs": [
    {
     "data": {
      "text/plain": [
       "array([300, 300, 300, 300, 300])"
      ]
     },
     "execution_count": 13,
     "metadata": {},
     "output_type": "execute_result"
    }
   ],
   "source": [
    "Sz"
   ]
  },
  {
   "cell_type": "code",
   "execution_count": 14,
   "id": "11321de1-367f-46fc-9010-38c3ed4b1206",
   "metadata": {},
   "outputs": [
    {
     "data": {
      "text/plain": [
       "300"
      ]
     },
     "execution_count": 14,
     "metadata": {},
     "output_type": "execute_result"
    }
   ],
   "source": [
    "Sz[0]"
   ]
  },
  {
   "cell_type": "code",
   "execution_count": 15,
   "id": "fbbd1c0f-41b2-4fe7-92c7-141590f500a0",
   "metadata": {},
   "outputs": [],
   "source": [
    "x=len(set(range(Sz[0])).intersection(set(T[0])))"
   ]
  },
  {
   "cell_type": "code",
   "execution_count": 23,
   "id": "12ec9f6d-9c39-4954-a079-b442a0730656",
   "metadata": {},
   "outputs": [
    {
     "data": {
      "text/plain": [
       "300"
      ]
     },
     "execution_count": 23,
     "metadata": {},
     "output_type": "execute_result"
    }
   ],
   "source": [
    "x"
   ]
  },
  {
   "cell_type": "code",
   "execution_count": 17,
   "id": "7346f10d-32be-43c3-a059-68f5951c5294",
   "metadata": {},
   "outputs": [
    {
     "data": {
      "text/plain": [
       "[300, 300, 300, 300, 300]"
      ]
     },
     "execution_count": 17,
     "metadata": {},
     "output_type": "execute_result"
    }
   ],
   "source": [
    "Av"
   ]
  },
  {
   "cell_type": "code",
   "execution_count": 24,
   "id": "7904e4a7-3c36-4c99-859b-34d9caff9c8a",
   "metadata": {},
   "outputs": [
    {
     "name": "stdout",
     "output_type": "stream",
     "text": [
      "0\n",
      "1\n",
      "2\n",
      "3\n",
      "4\n"
     ]
    }
   ],
   "source": [
    "hcd=0\n",
    "for i in range(k):\n",
    "    hcd+=len(set(T[i]).intersection(set(range(Sz[i]))))/Sz[i]\n",
    "    print(i)"
   ]
  },
  {
   "cell_type": "code",
   "execution_count": 25,
   "id": "b1e26971-9f34-4037-abbd-74d8291b066d",
   "metadata": {},
   "outputs": [
    {
     "data": {
      "text/plain": [
       "1.0"
      ]
     },
     "execution_count": 25,
     "metadata": {},
     "output_type": "execute_result"
    }
   ],
   "source": [
    "hcd"
   ]
  },
  {
   "cell_type": "code",
   "execution_count": 28,
   "id": "801b4920-2c9b-4ccc-8550-7ad1c9fbe399",
   "metadata": {},
   "outputs": [
    {
     "data": {
      "text/plain": [
       "1.0"
      ]
     },
     "execution_count": 28,
     "metadata": {},
     "output_type": "execute_result"
    }
   ],
   "source": [
    "x/Sz[0]"
   ]
  },
  {
   "cell_type": "code",
   "execution_count": 54,
   "id": "e405559c-00eb-4140-a753-d5070398246f",
   "metadata": {},
   "outputs": [],
   "source": [
    "hcd=0\n",
    "x=[]\n",
    "for i in range(k):\n",
    "    hcd+=len(set(T[i]).intersection(set(range(i*int(n/k), (i+1)*int(n/k)))))/int(n/k)"
   ]
  },
  {
   "cell_type": "code",
   "execution_count": 56,
   "id": "8d9e3fc2-dc33-4d8d-bba7-4486711bc457",
   "metadata": {},
   "outputs": [
    {
     "data": {
      "text/plain": [
       "1.0"
      ]
     },
     "execution_count": 56,
     "metadata": {},
     "output_type": "execute_result"
    }
   ],
   "source": [
    "hcd/k"
   ]
  },
  {
   "cell_type": "code",
   "execution_count": 34,
   "id": "cb942f3f-d63a-427a-9109-c178d40f1028",
   "metadata": {},
   "outputs": [],
   "source": [
    "hcd+=len(set(T[0]).intersection(set(range(Sz[0]))))/Sz[0]"
   ]
  },
  {
   "cell_type": "code",
   "execution_count": 35,
   "id": "8ea8d6db-20fa-4e7d-8e9e-114dac670aba",
   "metadata": {},
   "outputs": [
    {
     "data": {
      "text/plain": [
       "1.0"
      ]
     },
     "execution_count": 35,
     "metadata": {},
     "output_type": "execute_result"
    }
   ],
   "source": [
    "hcd"
   ]
  },
  {
   "cell_type": "code",
   "execution_count": 36,
   "id": "726069b9-5fd0-4c3d-823d-28f8a1fe4f2e",
   "metadata": {},
   "outputs": [],
   "source": [
    "hcd+=len(set(T[1]).intersection(set(range(Sz[1]))))/Sz[1]"
   ]
  },
  {
   "cell_type": "code",
   "execution_count": 37,
   "id": "b5134686-eaaa-4845-ac0d-5b9dbc9d5250",
   "metadata": {},
   "outputs": [
    {
     "data": {
      "text/plain": [
       "1.0"
      ]
     },
     "execution_count": 37,
     "metadata": {},
     "output_type": "execute_result"
    }
   ],
   "source": [
    "hcd"
   ]
  },
  {
   "cell_type": "code",
   "execution_count": null,
   "id": "7b8e6999-5d82-445b-9c07-9f874bb3d45b",
   "metadata": {},
   "outputs": [],
   "source": []
  }
 ],
 "metadata": {
  "kernelspec": {
   "display_name": "Python 3 (ipykernel)",
   "language": "python",
   "name": "python3"
  },
  "language_info": {
   "codemirror_mode": {
    "name": "ipython",
    "version": 3
   },
   "file_extension": ".py",
   "mimetype": "text/x-python",
   "name": "python",
   "nbconvert_exporter": "python",
   "pygments_lexer": "ipython3",
   "version": "3.11.5"
  }
 },
 "nbformat": 4,
 "nbformat_minor": 5
}
