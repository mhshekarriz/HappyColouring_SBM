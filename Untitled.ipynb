{
 "cells": [
  {
   "cell_type": "code",
   "execution_count": 1,
   "id": "e2043d7e-e38a-49e0-8043-367f96d72e48",
   "metadata": {},
   "outputs": [],
   "source": [
    "import networkx as nx\n",
    "from genSBM import *\n",
    "from Happy_v import *"
   ]
  },
  {
   "cell_type": "code",
   "execution_count": 2,
   "id": "a449b99e-0b0b-4571-83c6-1aaa3232046a",
   "metadata": {},
   "outputs": [],
   "source": [
    "n=1500"
   ]
  },
  {
   "cell_type": "code",
   "execution_count": 3,
   "id": "2aba3e1d-28b7-4441-aeb9-dc4890ca3a4e",
   "metadata": {},
   "outputs": [],
   "source": [
    "r=0.5"
   ]
  },
  {
   "cell_type": "code",
   "execution_count": 4,
   "id": "2a40d33a-4f08-4528-88bf-db7092d17e0b",
   "metadata": {},
   "outputs": [],
   "source": [
    "p=0.63"
   ]
  },
  {
   "cell_type": "code",
   "execution_count": 5,
   "id": "420d6b68-1654-4655-b522-d0888a5f7ab9",
   "metadata": {},
   "outputs": [],
   "source": [
    "q=0.01"
   ]
  },
  {
   "cell_type": "code",
   "execution_count": 6,
   "id": "a7191578-497f-4efe-b2b3-021cba0dcc3c",
   "metadata": {},
   "outputs": [],
   "source": [
    "seed=10"
   ]
  },
  {
   "cell_type": "code",
   "execution_count": 7,
   "id": "12f98969-cf2d-4d11-956c-ec8bcd31f2a0",
   "metadata": {},
   "outputs": [],
   "source": [
    "k=5"
   ]
  },
  {
   "cell_type": "code",
   "execution_count": 8,
   "id": "01fab741-b455-4b62-bad6-d9a3134698fd",
   "metadata": {},
   "outputs": [],
   "source": [
    "[G,V,U]=genSBM(n,k,p,q,seed)"
   ]
  },
  {
   "cell_type": "code",
   "execution_count": 9,
   "id": "f66b527b-3dae-402d-b80d-65fba6e0b08f",
   "metadata": {},
   "outputs": [],
   "source": [
    "#[F,T]=growth_HC_r(G,V,U,r)\n",
    "[F,T]=greedy3_HC_r(G,V,U,r)"
   ]
  },
  {
   "cell_type": "code",
   "execution_count": 10,
   "id": "7ba421c4-150e-4107-a898-5ca6fb8de2a1",
   "metadata": {},
   "outputs": [],
   "source": [
    "Av=[]\n",
    "for i in range(len(T)):\n",
    "    Av.append(len(T[i]))"
   ]
  },
  {
   "cell_type": "code",
   "execution_count": 11,
   "id": "8461b1d9-7722-4d98-9fd5-392c7bed958d",
   "metadata": {},
   "outputs": [
    {
     "data": {
      "text/plain": [
       "[301, 300, 300, 299, 300]"
      ]
     },
     "execution_count": 11,
     "metadata": {},
     "output_type": "execute_result"
    }
   ],
   "source": [
    "Av"
   ]
  },
  {
   "cell_type": "code",
   "execution_count": 12,
   "id": "f79fe028-22c8-4043-9443-1a1bd3cd01bf",
   "metadata": {},
   "outputs": [],
   "source": [
    "filename=\"SBM_n=\"+str(n)+\"_k=\"+str(k)+\"_p=\"+str(round(p,2))+\"_q=\"+str(round(q,3))+\"_seed=\"+str(seed)+\".txt\""
   ]
  },
  {
   "cell_type": "code",
   "execution_count": 13,
   "id": "94cc8a29-928e-4b7c-935d-f8933c83c5b0",
   "metadata": {},
   "outputs": [],
   "source": [
    "comment1=\"c n=\"+str(n)+\" k=\"+str(k)+\" p=\"+str(round(p,2))+\" q=\"+str(round(q,3))+\" seed=\"+str(seed)+\"\\n\""
   ]
  },
  {
   "cell_type": "code",
   "execution_count": 14,
   "id": "9b53a255-9e19-44b0-ac3f-81262539d79b",
   "metadata": {},
   "outputs": [],
   "source": [
    "comment2=comment1+\"c Algorithm: greedy3_HC_r \\n\"+\"c r=\"+str(r)+\"\\n\"+\"c The number happy vertices: \"+str(len(Happy_v(F,r)))+\"\\n\"+\"c Fraction of happy vertices: \"+str(round(len(Happy_v(F,r))/n,4))+\"\\n\""
   ]
  },
  {
   "cell_type": "code",
   "execution_count": 15,
   "id": "5bc615d6-7de9-4ecd-8914-695f8e77a024",
   "metadata": {},
   "outputs": [],
   "source": [
    "write_dimacs(G,V,\"G_inp.txt\",comment1)"
   ]
  },
  {
   "cell_type": "code",
   "execution_count": 16,
   "id": "a51b49da-5ef5-43ff-8a04-293c0e3686ea",
   "metadata": {},
   "outputs": [],
   "source": [
    "write_dimacs(F,T,\"G_out.txt\",comment2)"
   ]
  },
  {
   "cell_type": "code",
   "execution_count": 17,
   "id": "0b789142-1f72-48cf-a605-a15b88694be4",
   "metadata": {},
   "outputs": [
    {
     "data": {
      "text/plain": [
       "(1499, 0.9993333333333333)"
      ]
     },
     "execution_count": 17,
     "metadata": {},
     "output_type": "execute_result"
    }
   ],
   "source": [
    "len(Happy_v(F,r)),len(Happy_v(F,r))/n"
   ]
  },
  {
   "cell_type": "code",
   "execution_count": 1,
   "id": "8e4f9251-cca6-4f23-a0d7-177d20a92564",
   "metadata": {},
   "outputs": [],
   "source": [
    "Ave_ratio_greedy=0.9\n",
    "Ave_ratio_growth=0.8\n",
    "\n",
    "with open(\"/home/ethernal/Documents/HappyColouring_SBM/Data/log.txt\", \"w\") as f:\n",
    "    f.write(\"Ave_ratio_greedy= \"+str(Ave_ratio_greedy)+\"\\n\")\n",
    "    f.write(\"Ave_ratio_growth= \"+str(Ave_ratio_growth)+\"\\n\")"
   ]
  },
  {
   "cell_type": "code",
   "execution_count": null,
   "id": "f9a50f8b-6715-47fb-a3a3-04d41233abf6",
   "metadata": {},
   "outputs": [],
   "source": []
  }
 ],
 "metadata": {
  "kernelspec": {
   "display_name": "Python 3 (ipykernel)",
   "language": "python",
   "name": "python3"
  },
  "language_info": {
   "codemirror_mode": {
    "name": "ipython",
    "version": 3
   },
   "file_extension": ".py",
   "mimetype": "text/x-python",
   "name": "python",
   "nbconvert_exporter": "python",
   "pygments_lexer": "ipython3",
   "version": "3.11.5"
  }
 },
 "nbformat": 4,
 "nbformat_minor": 5
}
